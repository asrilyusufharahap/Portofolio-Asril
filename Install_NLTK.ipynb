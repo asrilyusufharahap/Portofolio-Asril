{
  "nbformat": 4,
  "nbformat_minor": 0,
  "metadata": {
    "colab": {
      "provenance": [],
      "authorship_tag": "ABX9TyNQy+wsPf7i7I0x8hshl+VO",
      "include_colab_link": true
    },
    "kernelspec": {
      "name": "python3",
      "display_name": "Python 3"
    },
    "language_info": {
      "name": "python"
    }
  },
  "cells": [
    {
      "cell_type": "markdown",
      "metadata": {
        "id": "view-in-github",
        "colab_type": "text"
      },
      "source": [
        "<a href=\"https://colab.research.google.com/github/asrilyusufharahap/Portofolio-Asril/blob/main/Install_NLTK.ipynb\" target=\"_parent\"><img src=\"https://colab.research.google.com/assets/colab-badge.svg\" alt=\"Open In Colab\"/></a>"
      ]
    },
    {
      "cell_type": "code",
      "execution_count": 1,
      "metadata": {
        "colab": {
          "base_uri": "https://localhost:8080/"
        },
        "id": "rynPFf8nMm0k",
        "outputId": "f4b02a15-9430-468f-aae9-b9250360cf6d"
      },
      "outputs": [
        {
          "output_type": "stream",
          "name": "stdout",
          "text": [
            "Requirement already satisfied: nltk in /usr/local/lib/python3.12/dist-packages (3.9.1)\n",
            "Requirement already satisfied: click in /usr/local/lib/python3.12/dist-packages (from nltk) (8.3.0)\n",
            "Requirement already satisfied: joblib in /usr/local/lib/python3.12/dist-packages (from nltk) (1.5.2)\n",
            "Requirement already satisfied: regex>=2021.8.3 in /usr/local/lib/python3.12/dist-packages (from nltk) (2024.11.6)\n",
            "Requirement already satisfied: tqdm in /usr/local/lib/python3.12/dist-packages (from nltk) (4.67.1)\n"
          ]
        }
      ],
      "source": [
        "# instalasi (jika belum)\n",
        "!pip install nltk"
      ]
    },
    {
      "cell_type": "code",
      "source": [
        "# import Library\n",
        "import nltk\n",
        "from nltk. corpus import stopwords\n",
        "from nltk. tokenize import word_tokenize"
      ],
      "metadata": {
        "id": "wSOAW6KGNLoP"
      },
      "execution_count": 2,
      "outputs": []
    },
    {
      "cell_type": "code",
      "source": [
        "# Download resource tambahan (penting di versi NLTK terbaru)\n",
        "nltk.download('punkt')\n",
        "nltk.download('punkt_tab')\n",
        "nltk.download('stopwords')"
      ],
      "metadata": {
        "colab": {
          "base_uri": "https://localhost:8080/"
        },
        "id": "7wxleYx6O1Pm",
        "outputId": "5116ea33-faf1-4149-f57f-d43d4c535cad"
      },
      "execution_count": 5,
      "outputs": [
        {
          "output_type": "stream",
          "name": "stderr",
          "text": [
            "[nltk_data] Downloading package punkt to /root/nltk_data...\n",
            "[nltk_data]   Unzipping tokenizers/punkt.zip.\n",
            "[nltk_data] Downloading package punkt_tab to /root/nltk_data...\n",
            "[nltk_data]   Unzipping tokenizers/punkt_tab.zip.\n",
            "[nltk_data] Downloading package stopwords to /root/nltk_data...\n",
            "[nltk_data]   Unzipping corpora/stopwords.zip.\n"
          ]
        },
        {
          "output_type": "execute_result",
          "data": {
            "text/plain": [
              "True"
            ]
          },
          "metadata": {},
          "execution_count": 5
        }
      ]
    },
    {
      "cell_type": "code",
      "source": [
        "# Contoh Teks\n",
        "text = \"Pembelajaran NLP di Google Collab sangatlah MUDAH dan Efisien!\""
      ],
      "metadata": {
        "id": "1oMoRiL8Ntox"
      },
      "execution_count": 3,
      "outputs": []
    },
    {
      "cell_type": "code",
      "source": [
        "# 1. Tokenisasi\n",
        "token = word_tokenize (text)\n",
        "print(f\"Token: {token}\")"
      ],
      "metadata": {
        "colab": {
          "base_uri": "https://localhost:8080/"
        },
        "id": "sovA5WisPbpD",
        "outputId": "76bdbf26-1f33-4c4d-f038-2cdaba24319a"
      },
      "execution_count": 7,
      "outputs": [
        {
          "output_type": "stream",
          "name": "stdout",
          "text": [
            "Token: ['Pembelajaran', 'NLP', 'di', 'Google', 'Collab', 'sangatlah', 'MUDAH', 'dan', 'Efisien', '!']\n"
          ]
        }
      ]
    },
    {
      "cell_type": "code",
      "source": [
        "# 2. Lowercasing\n",
        "lower_tokens = [t.lower() for t in token]\n",
        "print(f\"Lowercasing: {lower_tokens}\")"
      ],
      "metadata": {
        "colab": {
          "base_uri": "https://localhost:8080/"
        },
        "id": "7MEvrbPXPjcI",
        "outputId": "1c10a294-42f5-4944-a971-0bff502e8bf7"
      },
      "execution_count": 9,
      "outputs": [
        {
          "output_type": "stream",
          "name": "stdout",
          "text": [
            "Lowercasing: ['pembelajaran', 'nlp', 'di', 'google', 'collab', 'sangatlah', 'mudah', 'dan', 'efisien', '!']\n"
          ]
        }
      ]
    },
    {
      "cell_type": "code",
      "source": [
        "# 3. Stopword Removal (Contoh, menggunakan bahasa inggris)\n",
        "# Ganti dengan stopword Bahasa Indonesia jika diperlukan\n",
        "stop_words = set(stopwords.words('english'))\n",
        "filtered_tokens = [t for t in lower_tokens if t not in stop_words]\n",
        "print(f\"Stopword Removal: {filtered_tokens}\")"
      ],
      "metadata": {
        "colab": {
          "base_uri": "https://localhost:8080/"
        },
        "id": "oChPc71zQS-R",
        "outputId": "c0d40692-57e2-478e-ad30-f42f3d163026"
      },
      "execution_count": 10,
      "outputs": [
        {
          "output_type": "stream",
          "name": "stdout",
          "text": [
            "Stopword Removal: ['pembelajaran', 'nlp', 'di', 'google', 'collab', 'sangatlah', 'mudah', 'dan', 'efisien', '!']\n"
          ]
        }
      ]
    }
  ]
}